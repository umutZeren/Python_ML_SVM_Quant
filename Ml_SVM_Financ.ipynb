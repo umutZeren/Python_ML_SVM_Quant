{
 "cells": [
  {
   "cell_type": "code",
   "execution_count": 1,
   "metadata": {},
   "outputs": [],
   "source": [
    "import pandas as pd\n",
    "import numpy as np\n",
    "import matplotlib.pyplot as plt\n",
    "import requests\n",
    "import yfinance as yf\n",
    "import math"
   ]
  },
  {
   "cell_type": "code",
   "execution_count": 2,
   "metadata": {},
   "outputs": [],
   "source": [
    "def procces_data_for_labels(ticker_df, ticker):\n",
    "    hm_days = 7\n",
    "    ticker_df.fillna(0)\n",
    "    ticker_df.replace(0,0.001)\n",
    "    for i in range (1, hm_days+1):\n",
    "        ticker_df['{}_{}d'.format(ticker, i)] =  (ticker_df[\"Close\"].shift(-i) - ticker_df[\"Close\"]) / ticker_df[\"Close\"]  \n",
    "    return ticker_df"
   ]
  },
  {
   "cell_type": "code",
   "execution_count": 3,
   "metadata": {},
   "outputs": [],
   "source": [
    "def in_hold_sell_for_svm(*args):\n",
    "    cols = [ c for c in args ]\n",
    "    #decision boundary to buy or sell  +1 -1  0 \n",
    "    #1:buy 0:hold -1:sell\n",
    "    #     could add moving avg  to logic new kind of algo. good for turkish market.\n",
    "    #     more then 7day low && more than 200ma -> buy\n",
    "    #     \"$more_than_learneable_parameter_with_ml\"% return sell.\n",
    "    change_req = 0.03\n",
    "    for colm in cols:\n",
    "        if colm > change_req: return 1\n",
    "        elif colm == change_req: return 0\n",
    "        else : return -1\n",
    "\n",
    "    "
   ]
  },
  {
   "cell_type": "code",
   "execution_count": 4,
   "metadata": {},
   "outputs": [],
   "source": [
    "def extract_features(ticker_df, ticker):\n",
    "    #guessings of next 7 day, creating labels/pre-processing input.\n",
    "    ticker_df['target_{}'.format(ticker)] = list(map(in_hold_sell_for_svm, *[ticker_df['{}_{}d'.format(ticker, i)] for i in range(1, 8, 1)]  ) ) \n",
    "    df_vals = ticker_df.pct_change()\n",
    "    \n",
    "    df_vals = df_vals.replace([-np.inf,np.inf],np.nan)\n",
    "    df_vals = df_vals.fillna(0.001)\n",
    "    ticker_df['target_{}'.format(ticker)] = ticker_df['target_{}'.format(ticker)].replace( [-np.inf,np.inf], np.nan )\n",
    "    ticker_df['target_{}'.format(ticker)] = ticker_df['target_{}'.format(ticker)].fillna(0.001)\n",
    "    \n",
    "    str_vals = [ str(val) for val in ticker_df['target_{}'.format(ticker)]  ]\n",
    "    print(\"Data hyperplane/spread :\", Counter(str_vals) )\n",
    "    X = df_vals.values\n",
    "    y = ticker_df['target_{}'.format(ticker)].values\n",
    "    \n",
    "    return X, y"
   ]
  },
  {
   "cell_type": "code",
   "execution_count": 5,
   "metadata": {},
   "outputs": [],
   "source": [
    "from sklearn.model_selection import train_test_split\n",
    "from sklearn import svm,neighbors\n",
    "from sklearn.ensemble  import VotingClassifier, RandomForestClassifier \n",
    "from collections import Counter"
   ]
  },
  {
   "cell_type": "code",
   "execution_count": 6,
   "metadata": {},
   "outputs": [],
   "source": [
    "def Svm_finance(ticker_df ,ticker):\n",
    "    X, y = extract_features(ticker_df, ticker)\n",
    "    X_train, X_test, y_train, y_test = train_test_split(X,y,test_size=0.25)\n",
    "    clf = neighbors.KNeighborsClassifier()\n",
    "    clf.fit( X_train, y_train )\n",
    "    conf = clf.score(X_test, y_test )\n",
    "    predictions = clf.predict(X_test)\n",
    "    print(\"Accuracy : \", conf)\n",
    "    print('Predicted Spread:', Counter( predictions )  )\n",
    "    return conf"
   ]
  },
  {
   "cell_type": "code",
   "execution_count": 9,
   "metadata": {},
   "outputs": [
    {
     "name": "stdout",
     "output_type": "stream",
     "text": [
      "Data hyperplane/spread : Counter({'-1': 2438, '1': 156})\n",
      "Accuracy :  0.9614791987673343\n",
      "Predicted Spread: Counter({-1: 620, 1: 29})\n",
      "Data hyperplane/spread : Counter({'-1': 2381, '1': 213})\n",
      "Accuracy :  0.9352850539291218\n",
      "Predicted Spread: Counter({-1: 621, 1: 28})\n",
      "Data hyperplane/spread : Counter({'-1': 2428, '1': 162})\n",
      "Accuracy :  0.9737654320987654\n",
      "Predicted Spread: Counter({-1: 625, 1: 23})\n",
      "Data hyperplane/spread : Counter({'-1': 2438, '1': 156})\n",
      "Accuracy :  0.9553158705701078\n",
      "Predicted Spread: Counter({-1: 630, 1: 19})\n",
      "Data hyperplane/spread : Counter({'-1': 2394, '1': 200})\n",
      "Accuracy :  0.9645608628659477\n",
      "Predicted Spread: Counter({-1: 620, 1: 29})\n",
      "            Close  PETKM.IS_1d  PETKM.IS_2d  PETKM.IS_3d  PETKM.IS_4d  \\\n",
      "Date                                                                    \n",
      "2020-11-30   4.21     0.014252     0.007126     0.011877     0.099762   \n",
      "2020-12-01   4.27    -0.007026    -0.002342     0.084309     0.187354   \n",
      "\n",
      "            PETKM.IS_5d  PETKM.IS_6d  PETKM.IS_7d  target_PETKM.IS  \n",
      "Date                                                                \n",
      "2020-11-30     0.204276     0.166271     0.123515               -1  \n",
      "2020-12-01     0.149883     0.107728     0.110070               -1  \n"
     ]
    }
   ],
   "source": [
    "tickers_important_local = ['PETKM.IS', 'THYAO.IS', 'ISCTR.IS', 'TUPRS.IS', 'SISE.IS']\n",
    "#these stocks for turkish market are good example of investment because of consistent good returns in long term invesment.\n",
    "# In low quality high momentum stock, accuracy would differ dramatically in a bad way. \n",
    "tickers_histo = {}\n",
    "for ticker in tickers_important_local :\n",
    "    tick = yf.Ticker(ticker).history(period = \"10y\")\n",
    "    tick.dropna(inplace = True)\n",
    "    tick = pd.DataFrame(tick[\"Close\"])\n",
    "    tick = procces_data_for_labels( tick, ticker)\n",
    "    tickers_histo[ticker] = tick\n",
    "    Svm_finance(tick ,ticker)\n",
    "    \n",
    "print(tickers_histo['PETKM.IS'].iloc[-20:-18])"
   ]
  },
  {
   "cell_type": "code",
   "execution_count": 8,
   "metadata": {},
   "outputs": [
    {
     "data": {
      "text/plain": [
       "\"\\nfor key,value in tickers_histo.items():\\n    value['100ma']=value['Close'].rolling(window =100).mean()\\n    value.dropna(inplace=True)\\n\""
      ]
     },
     "execution_count": 8,
     "metadata": {},
     "output_type": "execute_result"
    }
   ],
   "source": [
    "\"\"\"\n",
    "moving avarages implementation\n",
    "for key,value in tickers_histo.items():\n",
    "    value['100ma']=value['Close'].rolling(window =100).mean()\n",
    "    value.dropna(inplace=True)\n",
    "\"\"\"\n"
   ]
  },
  {
   "cell_type": "code",
   "execution_count": null,
   "metadata": {},
   "outputs": [],
   "source": []
  },
  {
   "cell_type": "code",
   "execution_count": null,
   "metadata": {},
   "outputs": [],
   "source": []
  },
  {
   "cell_type": "code",
   "execution_count": null,
   "metadata": {},
   "outputs": [],
   "source": []
  },
  {
   "cell_type": "code",
   "execution_count": null,
   "metadata": {},
   "outputs": [],
   "source": []
  },
  {
   "cell_type": "code",
   "execution_count": null,
   "metadata": {},
   "outputs": [],
   "source": []
  },
  {
   "cell_type": "code",
   "execution_count": null,
   "metadata": {},
   "outputs": [],
   "source": []
  }
 ],
 "metadata": {
  "kernelspec": {
   "display_name": "Python 3",
   "language": "python",
   "name": "python3"
  },
  "language_info": {
   "codemirror_mode": {
    "name": "ipython",
    "version": 3
   },
   "file_extension": ".py",
   "mimetype": "text/x-python",
   "name": "python",
   "nbconvert_exporter": "python",
   "pygments_lexer": "ipython3",
   "version": "3.9.0"
  }
 },
 "nbformat": 4,
 "nbformat_minor": 4
}
